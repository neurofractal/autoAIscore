{
 "cells": [
  {
   "cell_type": "code",
   "execution_count": 1,
   "metadata": {},
   "outputs": [],
   "source": [
    "# Import packages\n",
    "from docx import Document\n",
    "from lxml import etree\n",
    "import zipfile\n",
    "import re\n",
    "import glob\n",
    "import pandas as pd\n",
    "import warnings\n",
    "def custom_formatwarning(msg, *args, **kwargs):\n",
    "    # ignore everything except the message\n",
    "    return str(msg) + '\\n'\n",
    "\n",
    "warnings.formatwarning = custom_formatwarning"
   ]
  },
  {
   "cell_type": "code",
   "execution_count": 2,
   "metadata": {},
   "outputs": [],
   "source": [
    "ooXMLns = {'w':'http://schemas.openxmlformats.org/wordprocessingml/2006/main'}\n",
    "#Function to extract all the comments of document(Same as accepted answer)\n",
    "#Returns a dictionary with comment id as key and comment string as value\n",
    "def get_document_comments(docxFileName):\n",
    "    comments_dict={}\n",
    "    docxZip = zipfile.ZipFile(docxFileName)\n",
    "    commentsXML = docxZip.read('word/comments.xml')\n",
    "    et = etree.XML(commentsXML)\n",
    "    comments = et.xpath('//w:comment',namespaces=ooXMLns)\n",
    "    for c in comments:\n",
    "        comment=c.xpath('string(.)',namespaces=ooXMLns)\n",
    "        comment_id=c.xpath('@w:id',namespaces=ooXMLns)[0]\n",
    "        comments_dict[comment_id]=comment\n",
    "    return comments_dict\n",
    "\n",
    "def paragraph_comments(paragraph,comments_dict):\n",
    "    comments=[]\n",
    "    for run in paragraph.runs:\n",
    "        comment_reference=run._r.xpath(\"./w:commentReference\")\n",
    "        if comment_reference:\n",
    "            comment_id=comment_reference[0].xpath('@w:id',namespaces=ooXMLns)[0]\n",
    "            comment=comments_dict[comment_id]\n",
    "            comments.append(comment)\n",
    "    return comments"
   ]
  },
  {
   "cell_type": "code",
   "execution_count": 103,
   "metadata": {},
   "outputs": [],
   "source": [
    "\n",
    "def extract_AI_scores(docxFileName):\n",
    "\n",
    "    document = Document(docxFileName)\n",
    "    comments_dict=get_document_comments(docxFileName)\n",
    "    \n",
    "    feature_text = []\n",
    "    category = []\n",
    "    sub_category = []\n",
    "    accuracy = []\n",
    "    event_number = []\n",
    "    \n",
    "    event_number_within_loop = []\n",
    "    \n",
    "    for para in document.paragraphs:\n",
    "        # Check if this paragraph contains Event X, if so update event_number_within_loop\n",
    "        find_event_number = (re.findall(r'\\bEvent \\d+',para.text))\n",
    "        if find_event_number:\n",
    "            event_number_within_loop = [int(s) for s in find_event_number[0].split() if s.isdigit()][0]\n",
    "            print(\"Processing Event {}\".format(event_number_within_loop))\n",
    "        \n",
    "        # Check if paragraph contains a comment\n",
    "        comm = []\n",
    "        for run in para.runs:\n",
    "            comment_reference=run._r.xpath(\"./w:commentReference\")\n",
    "            if comment_reference:\n",
    "                comm = comment_reference\n",
    "        \n",
    "        # If it does...\n",
    "        if comm:\n",
    "    #       Add paragraph text   \n",
    "            feature_text.append(para.text)\n",
    "\n",
    "    #       Warn the user if there is an unusually short string\n",
    "            if len(para.text) < 1:\n",
    "                warnings.warn(\"TEXT TOO SHORT. Event: {} Detail: '{}'\".format(event_number_within_loop,para.text))\n",
    "\n",
    "    #       Get comment from this paragraph\n",
    "            r = paragraph_comments(para,comments_dict)\n",
    "    #       Add the text to feature_text\n",
    "\n",
    "    #       Search for pattern of characters\n",
    "\n",
    "            patt = re.findall(r'[IEie][ETPRSOetprso][VILEHTvileht][TFUtfu]',r[0])\n",
    "\n",
    "    #       If pattern is found...\n",
    "            if patt:\n",
    "                # Warn if length is not 4\n",
    "                if len(patt[0]) != 4:\n",
    "                    warnings.warn(\"WEIRD LENGTH. Event: {} Detail: '{}'\".format(event_number_within_loop,para.text))\n",
    "                \n",
    "                # Category: I = internal ; E = external\n",
    "                if patt[0][0].upper() == 'I':\n",
    "                    text1 = 'internal'\n",
    "                elif patt[0][0].upper() == 'E':\n",
    "                    text1 = 'external'\n",
    "                \n",
    "                category.append(text1)      \n",
    "                \n",
    "                # Sub-Category: EV = event ; PE = perceptual ; TI = time ; PL = Place\n",
    "                #               TH = thought_emotion ; SE = semantic ; RE = repetition ;\n",
    "                #               OT = other\n",
    "                                \n",
    "                if patt[0][1:3].upper() == 'EV':\n",
    "                    text2 = 'event'\n",
    "                elif patt[0][1:3].upper() == 'PE':\n",
    "                    text2 = 'perceptual'\n",
    "                elif patt[0][1:3].upper() == 'TI':\n",
    "                    text2 = 'time'\n",
    "                elif patt[0][1:3].upper() == 'PL':\n",
    "                    text2 = 'place'\n",
    "                elif patt[0][1:3].upper() == 'TH':\n",
    "                    text2 = 'thought_emotion'\n",
    "                elif patt[0][1:3].upper() == 'SE':\n",
    "                    text2 = 'semantic'\n",
    "                elif patt[0][1:3].upper() == 'RE':\n",
    "                    text2 = 'repetition'\n",
    "                elif patt[0][1:3].upper() == 'OT':\n",
    "                    text2 = 'other'\n",
    "                else:\n",
    "                    warnings.warn(\"WEIRD SUB-CATEGORY PATTERN FOUND. Event: {} Detail: '{}'\".format(event_number_within_loop,para.text))\n",
    "                    text2 = ''\n",
    "                \n",
    "                sub_category.append(text2)\n",
    "                \n",
    "                # Accuracy: T = true ; F = false ; U = unverifiable\n",
    "                if patt[0][3].upper() == 'T':\n",
    "                    text3 = 'true'\n",
    "                elif patt[0][3].upper() == 'F':\n",
    "                    text3 = 'false'\n",
    "                elif patt[0][3].upper() == 'U':\n",
    "                    text3 = 'unverifiable'\n",
    "                    \n",
    "                accuracy.append(text3)\n",
    "                \n",
    "                # Add event number\n",
    "                event_number.append(event_number_within_loop)\n",
    "                \n",
    "    #       If pattern is not found make NaNs and create warning...\n",
    "            else:    \n",
    "                category.append('NaN')       \n",
    "                sub_category.append('NaN')\n",
    "                accuracy.append('NaN')\n",
    "                event_number.append(event_number_within_loop)\n",
    "\n",
    "                warnings.warn(\"PATTERN NOT FOUND. Event: {} Detail: '{}'\".format(event_number_within_loop,para.text))\n",
    "        \n",
    "        \n",
    "    # Create data frame\n",
    "    df = pd.DataFrame(list(zip(event_number,category,sub_category,accuracy,feature_text)),\n",
    "                   columns =['event_number','category','sub_category','accuracy','text'])\n",
    "\n",
    "    return df\n",
    "    \n",
    "     "
   ]
  },
  {
   "cell_type": "code",
   "execution_count": 108,
   "metadata": {},
   "outputs": [
    {
     "name": "stdout",
     "output_type": "stream",
     "text": [
      "Processing Event 1\n",
      "Processing Event 2\n",
      "Processing Event 21\n"
     ]
    },
    {
     "name": "stderr",
     "output_type": "stream",
     "text": [
      "PATTERN NOT FOUND. Event: 1 Detail: 'This shouldn’t work'\n"
     ]
    }
   ],
   "source": [
    "df = extract_AI_scores('subjectTEST/test_participant01.docx')\n",
    "\n",
    "# df = pd.DataFrame(columns=['event_number','category', \n",
    "#                             'sub_category','accuracy',\n",
    "#                             'text'])\n",
    "\n",
    "# for file in sorted(glob.glob(\"subjectTEST/*.docx\")):\n",
    "    \n",
    "#     print(file)\n",
    "#     df_event = extract_AI_scores(file)\n",
    "    \n",
    "#     df = pd.concat([df,df_event],sort=False)\n",
    "\n",
    "\n",
    "\n",
    "# Print the head\n",
    "df.head()\n",
    "df.to_csv('subjectTEST/AIscores.csv')\n",
    "\n"
   ]
  },
  {
   "cell_type": "code",
   "execution_count": 107,
   "metadata": {},
   "outputs": [
    {
     "data": {
      "text/html": [
       "<div>\n",
       "<style scoped>\n",
       "    .dataframe tbody tr th:only-of-type {\n",
       "        vertical-align: middle;\n",
       "    }\n",
       "\n",
       "    .dataframe tbody tr th {\n",
       "        vertical-align: top;\n",
       "    }\n",
       "\n",
       "    .dataframe thead th {\n",
       "        text-align: right;\n",
       "    }\n",
       "</style>\n",
       "<table border=\"1\" class=\"dataframe\">\n",
       "  <thead>\n",
       "    <tr style=\"text-align: right;\">\n",
       "      <th></th>\n",
       "      <th>event_number</th>\n",
       "      <th>category</th>\n",
       "      <th>sub_category</th>\n",
       "      <th>accuracy</th>\n",
       "      <th>text</th>\n",
       "    </tr>\n",
       "  </thead>\n",
       "  <tbody>\n",
       "    <tr>\n",
       "      <th>0</th>\n",
       "      <td>1</td>\n",
       "      <td>internal</td>\n",
       "      <td>event</td>\n",
       "      <td>true</td>\n",
       "      <td>I remember being in the train station,</td>\n",
       "    </tr>\n",
       "    <tr>\n",
       "      <th>1</th>\n",
       "      <td>1</td>\n",
       "      <td>internal</td>\n",
       "      <td>perceptual</td>\n",
       "      <td>true</td>\n",
       "      <td>with big circular old-style archways</td>\n",
       "    </tr>\n",
       "    <tr>\n",
       "      <th>2</th>\n",
       "      <td>1</td>\n",
       "      <td>internal</td>\n",
       "      <td>perceptual</td>\n",
       "      <td>true</td>\n",
       "      <td>on the ceiling</td>\n",
       "    </tr>\n",
       "    <tr>\n",
       "      <th>3</th>\n",
       "      <td>1</td>\n",
       "      <td>internal</td>\n",
       "      <td>event</td>\n",
       "      <td>true</td>\n",
       "      <td>I walked</td>\n",
       "    </tr>\n",
       "    <tr>\n",
       "      <th>4</th>\n",
       "      <td>1</td>\n",
       "      <td>internal</td>\n",
       "      <td>event</td>\n",
       "      <td>false</td>\n",
       "      <td>through the ticket barrier</td>\n",
       "    </tr>\n",
       "    <tr>\n",
       "      <th>5</th>\n",
       "      <td>1</td>\n",
       "      <td>internal</td>\n",
       "      <td>event</td>\n",
       "      <td>false</td>\n",
       "      <td>and a women</td>\n",
       "    </tr>\n",
       "    <tr>\n",
       "      <th>6</th>\n",
       "      <td>1</td>\n",
       "      <td>internal</td>\n",
       "      <td>event</td>\n",
       "      <td>true</td>\n",
       "      <td>said hello to me, or welcomed me.</td>\n",
       "    </tr>\n",
       "    <tr>\n",
       "      <th>7</th>\n",
       "      <td>1</td>\n",
       "      <td>internal</td>\n",
       "      <td>event</td>\n",
       "      <td>true</td>\n",
       "      <td>Oh and there was an announcement</td>\n",
       "    </tr>\n",
       "    <tr>\n",
       "      <th>8</th>\n",
       "      <td>1</td>\n",
       "      <td>internal</td>\n",
       "      <td>event</td>\n",
       "      <td>false</td>\n",
       "      <td>about a train being late or something</td>\n",
       "    </tr>\n",
       "    <tr>\n",
       "      <th>9</th>\n",
       "      <td>1</td>\n",
       "      <td>external</td>\n",
       "      <td>other</td>\n",
       "      <td>true</td>\n",
       "      <td>This was right after you said the experiment s...</td>\n",
       "    </tr>\n",
       "    <tr>\n",
       "      <th>10</th>\n",
       "      <td>1</td>\n",
       "      <td>NaN</td>\n",
       "      <td>NaN</td>\n",
       "      <td>NaN</td>\n",
       "      <td>This shouldn’t work</td>\n",
       "    </tr>\n",
       "    <tr>\n",
       "      <th>11</th>\n",
       "      <td>2</td>\n",
       "      <td>internal</td>\n",
       "      <td>event</td>\n",
       "      <td>true</td>\n",
       "      <td>Yes I remember meeting Dave.</td>\n",
       "    </tr>\n",
       "    <tr>\n",
       "      <th>12</th>\n",
       "      <td>2</td>\n",
       "      <td>internal</td>\n",
       "      <td>event</td>\n",
       "      <td>true</td>\n",
       "      <td>He was the tour guide,</td>\n",
       "    </tr>\n",
       "    <tr>\n",
       "      <th>13</th>\n",
       "      <td>2</td>\n",
       "      <td>internal</td>\n",
       "      <td>thought_emotion</td>\n",
       "      <td>unverifiable</td>\n",
       "      <td>And he was very enthusiastic.</td>\n",
       "    </tr>\n",
       "    <tr>\n",
       "      <th>14</th>\n",
       "      <td>2</td>\n",
       "      <td>internal</td>\n",
       "      <td>place</td>\n",
       "      <td>true</td>\n",
       "      <td>It was right outside the train station,</td>\n",
       "    </tr>\n",
       "    <tr>\n",
       "      <th>15</th>\n",
       "      <td>2</td>\n",
       "      <td>internal</td>\n",
       "      <td>event</td>\n",
       "      <td>true</td>\n",
       "      <td>where we met him.</td>\n",
       "    </tr>\n",
       "    <tr>\n",
       "      <th>16</th>\n",
       "      <td>2</td>\n",
       "      <td>internal</td>\n",
       "      <td>event</td>\n",
       "      <td>true</td>\n",
       "      <td>He explained Filbury was a great place,</td>\n",
       "    </tr>\n",
       "    <tr>\n",
       "      <th>17</th>\n",
       "      <td>2</td>\n",
       "      <td>internal</td>\n",
       "      <td>event</td>\n",
       "      <td>true</td>\n",
       "      <td>And there was so much to see and do.</td>\n",
       "    </tr>\n",
       "    <tr>\n",
       "      <th>18</th>\n",
       "      <td>2</td>\n",
       "      <td>internal</td>\n",
       "      <td>perceptual</td>\n",
       "      <td>true</td>\n",
       "      <td>I think there might have been cars going past ...</td>\n",
       "    </tr>\n",
       "    <tr>\n",
       "      <th>19</th>\n",
       "      <td>2</td>\n",
       "      <td>internal</td>\n",
       "      <td>perceptual</td>\n",
       "      <td>true</td>\n",
       "      <td>And one honked it’s horn</td>\n",
       "    </tr>\n",
       "    <tr>\n",
       "      <th>20</th>\n",
       "      <td>21</td>\n",
       "      <td>internal</td>\n",
       "      <td>event</td>\n",
       "      <td>true</td>\n",
       "      <td>I remember there being a rabbit</td>\n",
       "    </tr>\n",
       "  </tbody>\n",
       "</table>\n",
       "</div>"
      ],
      "text/plain": [
       "   event_number  category     sub_category      accuracy  \\\n",
       "0             1  internal            event          true   \n",
       "1             1  internal       perceptual          true   \n",
       "2             1  internal       perceptual          true   \n",
       "3             1  internal            event          true   \n",
       "4             1  internal            event         false   \n",
       "5             1  internal            event         false   \n",
       "6             1  internal            event          true   \n",
       "7             1  internal            event          true   \n",
       "8             1  internal            event         false   \n",
       "9             1  external            other          true   \n",
       "10            1       NaN              NaN           NaN   \n",
       "11            2  internal            event          true   \n",
       "12            2  internal            event          true   \n",
       "13            2  internal  thought_emotion  unverifiable   \n",
       "14            2  internal            place          true   \n",
       "15            2  internal            event          true   \n",
       "16            2  internal            event          true   \n",
       "17            2  internal            event          true   \n",
       "18            2  internal       perceptual          true   \n",
       "19            2  internal       perceptual          true   \n",
       "20           21  internal            event          true   \n",
       "\n",
       "                                                 text  \n",
       "0              I remember being in the train station,  \n",
       "1               with big circular old-style archways   \n",
       "2                                      on the ceiling  \n",
       "3                                           I walked   \n",
       "4                         through the ticket barrier   \n",
       "5                                        and a women   \n",
       "6                   said hello to me, or welcomed me.  \n",
       "7                   Oh and there was an announcement   \n",
       "8               about a train being late or something  \n",
       "9   This was right after you said the experiment s...  \n",
       "10                                This shouldn’t work  \n",
       "11                      Yes I remember meeting Dave.   \n",
       "12                            He was the tour guide,   \n",
       "13                      And he was very enthusiastic.  \n",
       "14           It was right outside the train station,   \n",
       "15                                  where we met him.  \n",
       "16           He explained Filbury was a great place,   \n",
       "17               And there was so much to see and do.  \n",
       "18  I think there might have been cars going past ...  \n",
       "19                           And one honked it’s horn  \n",
       "20                    I remember there being a rabbit  "
      ]
     },
     "execution_count": 107,
     "metadata": {},
     "output_type": "execute_result"
    }
   ],
   "source": [
    "df"
   ]
  },
  {
   "cell_type": "code",
   "execution_count": 101,
   "metadata": {},
   "outputs": [
    {
     "name": "stdout",
     "output_type": "stream",
     "text": [
      "1\n",
      "['Yes I remember meeting Dave. ', 'He was the tour guide, ', 'And he was very enthusiastic.', 'It was right outside the train station, where we met him.', 'He explained Filbury was a great place, ', 'And there was so much to see and do.', 'I think there might have been cars going past too, ', 'And one honked it’s horn']\n"
     ]
    },
    {
     "name": "stderr",
     "output_type": "stream",
     "text": [
      "WARNING. Event: 1 Detail: 'It was right outside the train station, where we met him.'\n"
     ]
    }
   ],
   "source": [
    "a = extract_AI_scores('subjectTEST/test_event_02.docx')\n",
    "print(a[0])"
   ]
  },
  {
   "cell_type": "code",
   "execution_count": 79,
   "metadata": {},
   "outputs": [],
   "source": [
    "df_123.to_csv('1234.csv')\n"
   ]
  },
  {
   "cell_type": "code",
   "execution_count": 71,
   "metadata": {},
   "outputs": [
    {
     "data": {
      "text/plain": [
       "6"
      ]
     },
     "execution_count": 71,
     "metadata": {},
     "output_type": "execute_result"
    }
   ],
   "source": [
    "event_number = "
   ]
  },
  {
   "cell_type": "code",
   "execution_count": 38,
   "metadata": {},
   "outputs": [],
   "source": [
    "df.to_csv('out.csv', index=False)"
   ]
  },
  {
   "cell_type": "code",
   "execution_count": 7,
   "metadata": {},
   "outputs": [],
   "source": [
    "df['event_num'] = df['event_num'].astype('float')"
   ]
  },
  {
   "cell_type": "code",
   "execution_count": 34,
   "metadata": {},
   "outputs": [],
   "source": [
    "df_acc   = df[df['accuracy']==1]\n",
    "df_inacc = df[df['accuracy']==0]"
   ]
  },
  {
   "cell_type": "code",
   "execution_count": 63,
   "metadata": {},
   "outputs": [
    {
     "data": {
      "image/png": "[encoded data removed]",
      "text/plain": [
       "<Figure size 432x288 with 1 Axes>"
      ]
     },
     "metadata": {
      "needs_background": "light"
     },
     "output_type": "display_data"
    }
   ],
   "source": [
    "x = df_acc['event_num'].unique()\n",
    "y = np.arange(0,len(x))\n",
    "plt.scatter(y,x) \n",
    "plt.plot(y,x)\n",
    "plt.ylabel('Event Label/48')\n",
    "plt.xlabel('Recalled Order')\n",
    "plt.savefig('recall_order.png',bbox_inches='tight',dpi=600)\n",
    "plt.show()\n"
   ]
  },
  {
   "cell_type": "code",
   "execution_count": 76,
   "metadata": {},
   "outputs": [
    {
     "data": {
      "image/png": "[encoded data removed]",
      "text/plain": [
       "<Figure size 432x288 with 1 Axes>"
      ]
     },
     "metadata": {
      "needs_background": "light"
     },
     "output_type": "display_data"
    }
   ],
   "source": [
    "ax = sns.countplot(x=\"event_num\",hue=\"accuracy\", data=df,orient=\"h\")\n",
    "ax.get_xaxis().set_visible(False)\n",
    "plt.legend(bbox_to_anchor=(1.05, 1), loc=2, borderaxespad=0.)\n",
    "plt.savefig('accuracy.png',bbox_inches='tight',dpi=600)\n",
    "plt.show()"
   ]
  },
  {
   "cell_type": "code",
   "execution_count": 80,
   "metadata": {},
   "outputs": [
    {
     "data": {
      "text/plain": [
       "Counter({-8.0: 1, -3.0: 1, -1.0: 8, 1.0: 30, 2.0: 3, 3.0: 3, 4.0: 3, 9.0: 1})"
      ]
     },
     "execution_count": 80,
     "metadata": {},
     "output_type": "execute_result"
    }
   ],
   "source": [
    "diff_vals = np.diff(df_acc['event_num'])\n",
    "diff_vals = diff_vals[diff_vals!=0]\n",
    "d = collections.Counter(diff_vals)\n",
    "d"
   ]
  },
  {
   "cell_type": "code",
   "execution_count": 106,
   "metadata": {},
   "outputs": [
    {
     "data": {
      "image/png": "[encoded data removed]",
      "text/plain": [
       "<Figure size 432x288 with 1 Axes>"
      ]
     },
     "metadata": {
      "needs_background": "light"
     },
     "output_type": "display_data"
    }
   ],
   "source": [
    "plt.scatter(d.keys(),d.values())\n",
    "plt.ylabel('Conditional Response\\n Probability',FontSize=16)\n",
    "plt.xlabel('Lag',FontSize=16)\n",
    "plt.savefig('recall_prob.png',bbox_inches='tight',dpi=600)\n",
    "plt.show()"
   ]
  },
  {
   "cell_type": "code",
   "execution_count": 93,
   "metadata": {},
   "outputs": [],
   "source": [
    "d = {k:float(v)/len(diff_vals) for k, v in d.items()}\n"
   ]
  },
  {
   "cell_type": "code",
   "execution_count": 92,
   "metadata": {},
   "outputs": [
    {
     "ename": "SyntaxError",
     "evalue": "invalid syntax (<ipython-input-92-5fa53a3d3fea>, line 1)",
     "output_type": "error",
     "traceback": [
      "\u001b[0;36m  File \u001b[0;32m\"<ipython-input-92-5fa53a3d3fea>\"\u001b[0;36m, line \u001b[0;32m1\u001b[0m\n\u001b[0;31m    d.values()./40\u001b[0m\n\u001b[0m               ^\u001b[0m\n\u001b[0;31mSyntaxError\u001b[0m\u001b[0;31m:\u001b[0m invalid syntax\n"
     ]
    }
   ],
   "source": [
    "d.values()/40"
   ]
  },
  {
   "cell_type": "code",
   "execution_count": null,
   "metadata": {},
   "outputs": [],
   "source": [
    "dict_values"
   ]
  }
 ],
 "metadata": {
  "kernelspec": {
   "display_name": "Python 3",
   "language": "python",
   "name": "python3"
  },
  "language_info": {
   "codemirror_mode": {
    "name": "ipython",
    "version": 3
   },
   "file_extension": ".py",
   "mimetype": "text/x-python",
   "name": "python",
   "nbconvert_exporter": "python",
   "pygments_lexer": "ipython3",
   "version": "3.5.6"
  }
 },
 "nbformat": 4,
 "nbformat_minor": 4
}
